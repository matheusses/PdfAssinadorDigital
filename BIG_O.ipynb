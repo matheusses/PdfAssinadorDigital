{
  "nbformat": 4,
  "nbformat_minor": 0,
  "metadata": {
    "colab": {
      "provenance": [],
      "toc_visible": true,
      "authorship_tag": "ABX9TyPslX1Lf27uiFoli7XSmRw6",
      "include_colab_link": true
    },
    "kernelspec": {
      "name": "python3",
      "display_name": "Python 3"
    },
    "language_info": {
      "name": "python"
    }
  },
  "cells": [
    {
      "cell_type": "markdown",
      "metadata": {
        "id": "view-in-github",
        "colab_type": "text"
      },
      "source": [
        "<a href=\"https://colab.research.google.com/github/matheusses/PdfAssinadorDigital/blob/master/BIG_O.ipynb\" target=\"_parent\"><img src=\"https://colab.research.google.com/assets/colab-badge.svg\" alt=\"Open In Colab\"/></a>"
      ]
    },
    {
      "cell_type": "markdown",
      "source": [
        "# **BIG O**\n"
      ],
      "metadata": {
        "id": "THK3Hf3W8ls9"
      }
    },
    {
      "cell_type": "markdown",
      "source": [
        "BIG O Analysis using Fibonacci Algorithm"
      ],
      "metadata": {
        "id": "kzTZGsLb8s5q"
      }
    },
    {
      "cell_type": "code",
      "execution_count": 2,
      "metadata": {
        "colab": {
          "base_uri": "https://localhost:8080/"
        },
        "id": "-lcn93uV8kxV",
        "outputId": "e4316225-738e-4a57-d440-4f4cb701f12b"
      },
      "outputs": [
        {
          "output_type": "stream",
          "name": "stdout",
          "text": [
            "i: 0\n",
            "i: 1\n",
            "i: 1\n",
            "i: 2\n",
            "i: 3\n",
            "i: 5\n",
            "i: 8\n",
            "i: 13\n",
            "i: 21\n",
            "i: 34\n"
          ]
        }
      ],
      "source": [
        "def all_fib(n):\n",
        "  for i in range(n): # It will be executed n times\n",
        "    print(f\"i: {fib(i)}\")\n",
        "\n",
        "\n",
        "def fib(n):\n",
        "  if (n <= 0): return 0\n",
        "  elif (n == 1): return 1\n",
        "  return fib(n-1) + fib(n-2)  # It's represents 2^n because each n time, it will be executed two comands.\n",
        "\n",
        "all_fib(10) # the runtime to compute the n Fibonacci numbers  is O(2^N)"
      ]
    }
  ]
}