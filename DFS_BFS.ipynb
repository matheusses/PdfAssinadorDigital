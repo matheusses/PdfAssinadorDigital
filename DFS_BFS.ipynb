{
  "nbformat": 4,
  "nbformat_minor": 0,
  "metadata": {
    "colab": {
      "provenance": [],
      "authorship_tag": "ABX9TyM6tiWCWz1cU71D7IgOVEtU",
      "include_colab_link": true
    },
    "kernelspec": {
      "name": "python3",
      "display_name": "Python 3"
    },
    "language_info": {
      "name": "python"
    }
  },
  "cells": [
    {
      "cell_type": "markdown",
      "metadata": {
        "id": "view-in-github",
        "colab_type": "text"
      },
      "source": [
        "<a href=\"https://colab.research.google.com/github/matheusses/PdfAssinadorDigital/blob/master/DFS_BFS.ipynb\" target=\"_parent\"><img src=\"https://colab.research.google.com/assets/colab-badge.svg\" alt=\"Open In Colab\"/></a>"
      ]
    },
    {
      "cell_type": "markdown",
      "source": [
        "DFS - Deep First Search\n",
        "BFS - Breath First Search"
      ],
      "metadata": {
        "id": "QdfrwwCcSTTj"
      }
    },
    {
      "cell_type": "code",
      "source": [
        "import copy"
      ],
      "metadata": {
        "id": "CxsuZe2yVGWM"
      },
      "execution_count": 2,
      "outputs": []
    },
    {
      "cell_type": "code",
      "execution_count": 4,
      "metadata": {
        "colab": {
          "base_uri": "https://localhost:8080/"
        },
        "id": "SAIDbo51SJ1u",
        "outputId": "51c6ce92-b1b0-418f-9bcd-f2165a234abb"
      },
      "outputs": [
        {
          "output_type": "stream",
          "name": "stdout",
          "text": [
            "******* AUD USD\n",
            "USD AUD\n",
            "USD AUD->USD\n",
            "✅ ('AUD', 'USD'): 0.9 == 0.9\n",
            "******* USD BRL\n",
            "BRL USD\n",
            "BRL USD->AUD\n",
            "BRL USD->AUD->CAD\n",
            "BRL USD->AUD->CAD->BRL\n",
            "✅ ('USD', 'BRL'): 0.16 == 0.16\n",
            "******* EUR USD\n",
            "USD EUR\n",
            "USD EUR->BRD\n",
            "USD EUR->USD\n",
            "✅ ('EUR', 'USD'): 1.1 == 1.1\n",
            "******* USD EUR\n",
            "EUR USD\n",
            "EUR USD->AUD\n",
            "EUR USD->AUD->CAD\n",
            "EUR USD->AUD->CAD->BRL\n",
            "EUR USD->AUD->CAD->BRL->JPY\n",
            "EUR USD->AUD->CAD->BRL->NOK\n",
            "EUR USD->AUD->CAD->BRL->CHN\n",
            "EUR USD->BRL\n",
            "EUR USD->BRL->CAD\n",
            "EUR USD->BRL->CAD->AUD\n",
            "EUR USD->BRL->JPY\n",
            "EUR USD->BRL->NOK\n",
            "EUR USD->BRL->CHN\n",
            "EUR USD->EUR\n",
            "✅ ('USD', 'EUR'): 0.91 == 0.9090909090909091\n",
            "******* CAD USD\n",
            "USD CAD\n",
            "USD CAD->AUD\n",
            "USD CAD->AUD->USD\n",
            "✅ ('CAD', 'USD'): 0.8 == 0.8\n",
            "******* USD CAD\n",
            "CAD USD\n",
            "CAD USD->AUD\n",
            "CAD USD->AUD->CAD\n",
            "✅ ('USD', 'CAD'): 1.26 == 1.2562814070351758\n",
            "******* EUR JPY\n",
            "JPY EUR\n",
            "JPY EUR->BRD\n",
            "JPY EUR->USD\n",
            "JPY EUR->USD->AUD\n",
            "JPY EUR->USD->AUD->CAD\n",
            "JPY EUR->USD->AUD->CAD->BRL\n",
            "JPY EUR->USD->AUD->CAD->BRL->JPY\n",
            "✅ ('EUR', 'JPY'): 0.21 == 0.21120000000000003\n",
            "******* AUD BRL\n",
            "BRL AUD\n",
            "BRL AUD->USD\n",
            "BRL AUD->USD->BRL\n",
            "✅ ('AUD', 'BRL'): 0.14 == 0.14400000000000002\n"
          ]
        }
      ],
      "source": [
        "# Question: Given the above parameters, find the conversion rate that maps to the 'from' currency to the 'to' currency from every single query. Your return value should be a number.\n",
        "\n",
        "# Example: You are given the following parameters:\n",
        "\n",
        "# Rates: ['USD', 'JPY', 100] ['JPY', 'CHN', 20] ['CHN', 'THAI', 200]\n",
        "# Queries: [['USD', 'CHN'], ['JPY', 'THAI'], ['USD', 'AUD']]\n",
        "# Output: [1000.0, 4000.0, -1.0]\n",
        "\n",
        "\n",
        "# inputString = \"AUD:USD:0.90 USD:BRL:0.16 EUR:USD:1.10 CAD:USD:1.1\"\n",
        "\n",
        "# criar uma funcao que receba um pair de moedas e retorne o FX ration\n",
        "\n",
        "\n",
        "# 1\n",
        "# simple hash table\n",
        "\n",
        "# T/S = O(n)\n",
        "def convertStringToDicRatios(ratiosString: str) -> dict:\n",
        "# add each pair into the hash table\n",
        "    parts = ratiosString.split(\" \")\n",
        "    ratiosHashtable = {}\n",
        "    for part in parts:\n",
        "        ratioParts = part.split(\":\")\n",
        "\n",
        "        if(ratioParts[0] not in ratiosHashtable): ratiosHashtable[ratioParts[0]] = {}\n",
        "        if(ratioParts[1] not in ratiosHashtable): ratiosHashtable[ratioParts[1]] = {}\n",
        "\n",
        "        ratiosHashtable[ratioParts[0]][ratioParts[1]] = float(ratioParts[2])\n",
        "        ratiosHashtable[ratioParts[1]][ratioParts[0]] = 1/float(ratioParts[2])\n",
        "\n",
        "    return ratiosHashtable\n",
        "\n",
        "# T/S = O(1)\n",
        "def getFxRatioBFS(ratiosHashtable: {}, currencyOrigin: str, currencyTarget: str) -> float:\n",
        "    queue, visited = deque(), set()\n",
        "    queue.append((currencyOrigin, 1, f\"{currencyOrigin}\"))\n",
        "    visited.add(currencyOrigin)\n",
        "\n",
        "    while queue:\n",
        "        current, ratio, path = queue.popleft()\n",
        "        print(current, ratio, path)\n",
        "        if currencyTarget == current: return ratio\n",
        "\n",
        "        for nextCurrency in ratiosHashtable[current]:\n",
        "            if nextCurrency not in visited:\n",
        "                nextRatio = ratiosHashtable[current][nextCurrency]\n",
        "                queue.append((nextCurrency, ratio * nextRatio, f\"{path}->{nextCurrency}\"))\n",
        "                visited.add(nextCurrency)\n",
        "    return -1\n",
        "\n",
        "def getFxRatioDfs(ratiosHashtable: {}, currencyOrigin: str, currencyTarget: str) -> float:\n",
        "    print(\"*******\", currencyOrigin, currencyTarget)\n",
        "    return DfsSearch(ratiosHashtable, currencyOrigin, currencyTarget, 1, set(), currencyOrigin)\n",
        "\n",
        "def DfsSearch(ratiosHashtable: {}, current: str, currencyTarget: str, ratio: int, visited: set, path: str):\n",
        "    visited.add(current)\n",
        "    print(currencyTarget, path)\n",
        "\n",
        "    if currencyTarget == current: return round(ratio, 2)\n",
        "\n",
        "    for nextCurrency in ratiosHashtable[current]:\n",
        "        if nextCurrency not in visited:\n",
        "            nextRatio = ratiosHashtable[current][nextCurrency]\n",
        "            ret = DfsSearch(ratiosHashtable, nextCurrency, currencyTarget, ratio * nextRatio, copy.deepcopy(visited), f\"{path}->{nextCurrency}\")\n",
        "            if ret:\n",
        "                return ret\n",
        "\n",
        "    return None\n",
        "\n",
        "\n",
        "# Tests\n",
        "inputString = \"AUD:USD:0.90 EUR:BRD:3 AUD:CAD:1.13 CAD:BRL:0.127433 USD:BRL:0.16 BRL:JPY:1.2 EUR:USD:1.10 CAD:USD:1.20 BRL:NOK:1.4 BRL:CHN:2\"\n",
        "ratiosHashtable = convertStringToDicRatios(inputString)\n",
        "\n",
        "# (\"AUD\", \"USD\") -> (\"USD\", \"BRL\")\n",
        "\n",
        "### 2 case: \"AUD -> JPY\" -->> (\"AUD\", \"USD\") -> (\"USD\", \"BRL\") -> (\"JPY\", \"BRL\")\n",
        "\n",
        "# Define test cases and expected results\n",
        "test_cases = [\n",
        "    ((\"AUD\", \"USD\"), 0.90),\n",
        "    ((\"USD\", \"BRL\"), 0.16),\n",
        "    ((\"EUR\", \"USD\"), 1.10),\n",
        "    ((\"USD\", \"EUR\"), 1/1.10),\n",
        "    ((\"CAD\", \"USD\"), 0.80),\n",
        "    ((\"USD\", \"CAD\"), 1/0.796),\n",
        "    ((\"EUR\", \"JPY\"), 1.10 * 0.16 * 1.2),\n",
        "    ((\"AUD\", \"BRL\"), 0.90 * 0.16)\n",
        "]\n",
        "\n",
        "# Run tests using a for loop\n",
        "for args, expected in test_cases:\n",
        "    result = getFxRatioDfs(ratiosHashtable, *args)\n",
        "    assert result == round(expected, 2), f\"❌ {args}: {result} != {expected}\"\n",
        "    print(f\"✅ {args}: {result} == {expected}\")\n",
        "\n"
      ]
    }
  ]
}